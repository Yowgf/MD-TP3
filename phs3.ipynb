{
 "cells": [
  {
   "cell_type": "markdown",
   "metadata": {},
   "source": [
    "## Fase 3 --- Preparação dos Dados\n",
    "\n",
    "Esta fase está preocupada principalmente com deixar os dados prontos para serem utilizados nos modelos, durante a fase 4. Estes modelos são: redes neurais convolutivas, e árvores de decisão/floresta aleatória."
   ]
  },
  {
   "cell_type": "markdown",
   "metadata": {},
   "source": [
    "#### Passo 1 --- Solucionar os problemas de qualidade de dados\n",
    "\n",
    "Não foi relatado qualquer problema de qualidade de dados. Por isso, este passo será pulado."
   ]
  },
  {
   "cell_type": "markdown",
   "metadata": {},
   "source": [
    "#### Passo 2 --- Se houver necessidade, comprimir os dados\n",
    "\n",
    "Talvez seja necessário fazer isto, de uma forma diferente de como foi feito na fase 1. Neste ponto do projeto, já se percebeu que a amostragem de blocos de pixel (4, 4) nas imagens originais foi uma má ideia. Talvez seja necessário utilizar outras técnicas mais tradicionais. Neste caso, recomenda-se a utilização de alguma biblioteca de python já especializada."
   ]
  },
  {
   "cell_type": "markdown",
   "metadata": {},
   "source": [
    "#### Passo 3 --- Criação de atributos e instâncias artificicais"
   ]
  },
  {
   "cell_type": "markdown",
   "metadata": {},
   "source": [
    "#### Passo 4 --- Normalização"
   ]
  },
  {
   "cell_type": "markdown",
   "metadata": {},
   "source": [
    "#### Passo 5 --- Certificação de que as necessidades dos modelos serão atendidas"
   ]
  },
  {
   "cell_type": "code",
   "execution_count": null,
   "metadata": {},
   "outputs": [],
   "source": []
  }
 ],
 "metadata": {
  "kernelspec": {
   "display_name": "Python 3",
   "language": "python",
   "name": "python3"
  },
  "language_info": {
   "codemirror_mode": {
    "name": "ipython",
    "version": 3
   },
   "file_extension": ".py",
   "mimetype": "text/x-python",
   "name": "python",
   "nbconvert_exporter": "python",
   "pygments_lexer": "ipython3",
   "version": "3.8.5"
  }
 },
 "nbformat": 4,
 "nbformat_minor": 4
}
