{
 "cells": [
  {
   "cell_type": "markdown",
   "metadata": {},
   "source": [
    "## Fase 3 --- Preparação dos Dados\n",
    "\n",
    "Esta fase está preocupada principalmente com deixar os dados prontos para serem utilizados nos modelos, durante a fase 4. Estes modelos são: redes neurais convolutivas, e árvores de decisão/floresta aleatória.\n",
    "\n",
    "Pensando agora, mesmo o classificador de floresta aleatória deve ter mal desempenho. Provavelmente o modelo a ser escolhido será redes neurais."
   ]
  },
  {
   "cell_type": "markdown",
   "metadata": {},
   "source": [
    "#### Passo 1 --- Solucionar os problemas de qualidade de dados\n",
    "\n",
    "Não foi relatado qualquer problema de qualidade de dados. Por isso, este passo será pulado."
   ]
  },
  {
   "cell_type": "markdown",
   "metadata": {},
   "source": [
    "#### Passo 2 --- Se houver necessidade, comprimir os dados\n",
    "\n",
    "Vai ser necessário utilizar os dados de uma forma diferente do que a planejada de acordo com a fase 1. Será necessário utilizar somente a metade das imagens. Além disso, será utilizado o servidor disponibilizado pela Google."
   ]
  },
  {
   "cell_type": "markdown",
   "metadata": {},
   "source": [
    "#### Passo 3 --- Criação de atributos e instâncias artificicais"
   ]
  },
  {
   "cell_type": "markdown",
   "metadata": {},
   "source": [
    "#### Passo 4 --- Normalização"
   ]
  },
  {
   "cell_type": "markdown",
   "metadata": {},
   "source": [
    "#### Passo 5 --- Certificação de que as necessidades dos modelos serão atendidas"
   ]
  },
  {
   "cell_type": "code",
   "execution_count": null,
   "metadata": {},
   "outputs": [],
   "source": []
  }
 ],
 "metadata": {
  "kernelspec": {
   "display_name": "Python 3",
   "language": "python",
   "name": "python3"
  },
  "language_info": {
   "codemirror_mode": {
    "name": "ipython",
    "version": 3
   },
   "file_extension": ".py",
   "mimetype": "text/x-python",
   "name": "python",
   "nbconvert_exporter": "python",
   "pygments_lexer": "ipython3",
   "version": "3.8.5"
  }
 },
 "nbformat": 4,
 "nbformat_minor": 4
}
