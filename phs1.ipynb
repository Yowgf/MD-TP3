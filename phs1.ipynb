{
 "cells": [
  {
   "cell_type": "markdown",
   "metadata": {},
   "source": [
    "### Fase 1 do projeto MD-TP3 --- Carregamento dos dados"
   ]
  },
  {
   "cell_type": "markdown",
   "metadata": {},
   "source": [
    "Aqui, especializamos em carregar os dados para este notebook, e verificar a qualidade basica dos dados"
   ]
  },
  {
   "cell_type": "markdown",
   "metadata": {},
   "source": [
    "#### Passo 1 -- Carregar os dados"
   ]
  },
  {
   "cell_type": "code",
   "execution_count": 1,
   "metadata": {},
   "outputs": [],
   "source": [
    "from pysrc.loading import loadImgDataset\n",
    "from pysrc.loading import buildValidationSet"
   ]
  },
  {
   "cell_type": "code",
   "execution_count": 2,
   "metadata": {},
   "outputs": [],
   "source": [
    "buildValidationSet() # Make sure there is a validation set"
   ]
  },
  {
   "cell_type": "code",
   "execution_count": 3,
   "metadata": {},
   "outputs": [],
   "source": [
    "classes, data = loadImgDataset(\"train\")"
   ]
  },
  {
   "cell_type": "markdown",
   "metadata": {},
   "source": [
    "#### Passo 2 -- Verificar se pressupostos fundamentais sobre os dados são mantidos\n",
    "\n",
    "Decidi pular este passo, porque os dados vieram como imagem, e portanto têm menor chance de estarem corrompidos."
   ]
  },
  {
   "cell_type": "markdown",
   "metadata": {},
   "source": [
    "#### Passo 3 -- Verificar a qualidade dos dados (valores faltantes)\n",
    "\n",
    "Também foi pulado"
   ]
  },
  {
   "cell_type": "markdown",
   "metadata": {},
   "source": [
    "#### Passo 4 -- Verificar se os dados precisam ser tratados de uma forma especial\n",
    "\n",
    "Este passo foi resolvido já durante o passo 1, pois foi prontamente necessário tomar algumas decisões. Estas incluem:\n",
    "\n",
    "1. Codificação de um byte para cada valor de um pixel\n",
    "2. Compressão utilizando por um método muito simples. Consiste simplesmente em sintetizar cada bloco de 4x4 pixels em um novo pixel com a média."
   ]
  },
  {
   "cell_type": "markdown",
   "metadata": {},
   "source": [
    "#### Passo 5 -- Produzir relatório de carregamento dos dados\n",
    "\n",
    "É importante notar que não foi possível verificar o quão praticável um método ou outro é, nesta fase. Tal verificação precisaria ser verificada empiricamente, construindo modelos. Obviamente, a construção de modelos não faz parte do propósito desta fase, e portanto tal tarefa foi postergada.\n",
    "\n",
    "Isso consiste, conclusivamente, em uma falha no plano de projeto inicial. Não se deve pedir verificações modais sobre os dados na fase de carregamento. Se existirem tais preocupações, uma escolha melhor é determinar que, na etapa de escolha de modelos (fase de Modelagem), exista uma iteração para o código de carregamento de dados."
   ]
  },
  {
   "cell_type": "markdown",
   "metadata": {},
   "source": [
    "### Saída\n",
    "\n",
    "- O código de carregamento de dados foi gerado, e colocado no pacote \"pysrc/loading\". Foi decidido que a nomenclatura dos pacotes não deve seguir as fases, mas sim a funcionalidade do mesmo, já que serão utilizados e possivelmente modificados durante todo o projeto."
   ]
  }
 ],
 "metadata": {
  "kernelspec": {
   "display_name": "Python 3",
   "language": "python",
   "name": "python3"
  },
  "language_info": {
   "codemirror_mode": {
    "name": "ipython",
    "version": 3
   },
   "file_extension": ".py",
   "mimetype": "text/x-python",
   "name": "python",
   "nbconvert_exporter": "python",
   "pygments_lexer": "ipython3",
   "version": "3.8.5"
  }
 },
 "nbformat": 4,
 "nbformat_minor": 4
}
