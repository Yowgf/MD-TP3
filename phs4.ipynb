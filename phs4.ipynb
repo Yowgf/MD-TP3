{
  "nbformat": 4,
  "nbformat_minor": 0,
  "metadata": {
    "kernelspec": {
      "display_name": "Python 3",
      "language": "python",
      "name": "python3"
    },
    "language_info": {
      "codemirror_mode": {
        "name": "ipython",
        "version": 3
      },
      "file_extension": ".py",
      "mimetype": "text/x-python",
      "name": "python",
      "nbconvert_exporter": "python",
      "pygments_lexer": "ipython3",
      "version": "3.8.5"
    },
    "colab": {
      "name": "phs4.ipynb",
      "provenance": [],
      "toc_visible": true
    }
  },
  "cells": [
    {
      "cell_type": "markdown",
      "metadata": {
        "id": "HfEpmlH9q0mW"
      },
      "source": [
        "## Fase 4 --- Modelagem\n",
        "\n",
        "Esta fase está encarregada de todo o processo de modelagem dos dados. Os passos são condensados abaixo, e não são distinguidos individualmente.\n",
        "\n",
        "Este notebook é quase inteiramente baseado em \"https://github.com/google/eng-edu/blob/main/ml/pc/exercises/image_classification_part1.ipynb\"."
      ]
    },
    {
      "cell_type": "code",
      "metadata": {
        "colab": {
          "base_uri": "https://localhost:8080/"
        },
        "id": "4idz3gbgs-eN",
        "outputId": "7d50a41b-9d24-4e90-e322-fb8828a02087"
      },
      "source": [
        "from google.colab import drive\n",
        "drive.mount('/content/drive') # Load the data folder from here"
      ],
      "execution_count": 1,
      "outputs": [
        {
          "output_type": "stream",
          "text": [
            "Mounted at /content/drive\n"
          ],
          "name": "stdout"
        }
      ]
    },
    {
      "cell_type": "code",
      "metadata": {
        "id": "5mb_tveuq0me"
      },
      "source": [
        "from keras import layers\n",
        "from keras import Model"
      ],
      "execution_count": 12,
      "outputs": []
    },
    {
      "cell_type": "code",
      "metadata": {
        "id": "HfkThayCq0mh"
      },
      "source": [
        "def modelWithDropout():\n",
        "  # Our input feature map is 224x224x3: 224x224 the image pixels, and 3 for\n",
        "  # the three color channels: R, G, and B\n",
        "  img_input = layers.Input(shape=(224, 224, 3))\n",
        "\n",
        "  # First convolution extracts 16 filters that are 3x3\n",
        "  # Convolution is followed by max-pooling layer with a 2x2 window\n",
        "  x = layers.Conv2D(16, 3, activation='relu')(img_input)\n",
        "  x = layers.MaxPooling2D(2)(x)\n",
        "\n",
        "  # Second convolution extracts 32 filters that are 3x3\n",
        "  # Convolution is followed by max-pooling layer with a 2x2 window\n",
        "  x = layers.Conv2D(32, 3, activation='relu')(x)\n",
        "  x = layers.MaxPooling2D(2)(x)\n",
        "\n",
        "  # Third convolution extracts 64 filters that are 3x3\n",
        "  # Convolution is followed by max-pooling layer with a 2x2 window\n",
        "  x = layers.Conv2D(64, 3, activation='relu')(x)\n",
        "  x = layers.MaxPooling2D(2)(x)\n",
        "\n",
        "  # Flatten feature map to a 1-dim tensor so we can add fully connected layers\n",
        "  x = layers.Flatten()(x)\n",
        "\n",
        "  # Create a fully connected layer with ReLU activation and 512 hidden units\n",
        "  x = layers.Dense(512, activation='relu')(x)\n",
        "\n",
        "  # Add a dropout rate of 0.5\n",
        "  x = layers.Dropout(0.5)(x)\n",
        "\n",
        "  # Create output layer with a single node and sigmoid activation\n",
        "  output = layers.Dense(1, activation='sigmoid')(x)\n",
        "\n",
        "  # Create model:\n",
        "  # input = input feature map\n",
        "  # output = input feature map + stacked convolution/maxpooling layers + fully \n",
        "  # connected layer + sigmoid output layer\n",
        "  model = Model(img_input, output)\n",
        "\n",
        "  return model\n",
        "\n",
        "def modelWoutDropout():\n",
        "  # Our input feature map is 224x224x3: 224x224 the image pixels, and 3 for\n",
        "  # the three color channels: R, G, and B\n",
        "  img_input = layers.Input(shape=(224, 224, 3))\n",
        "\n",
        "  # First convolution extracts 16 filters that are 3x3\n",
        "  # Convolution is followed by max-pooling layer with a 2x2 window\n",
        "  x = layers.Conv2D(16, 3, activation='relu')(img_input)\n",
        "  x = layers.MaxPooling2D(2)(x)\n",
        "\n",
        "  # Second convolution extracts 32 filters that are 3x3\n",
        "  # Convolution is followed by max-pooling layer with a 2x2 window\n",
        "  x = layers.Conv2D(32, 3, activation='relu')(x)\n",
        "  x = layers.MaxPooling2D(2)(x)\n",
        "  \n",
        "  # Third convolution extracts 64 filters that are 3x3\n",
        "  # Convolution is followed by max-pooling layer with a 2x2 window\n",
        "  x = layers.Conv2D(64, 3, activation='relu')(x)\n",
        "  x = layers.MaxPooling2D(2)(x)\n",
        "\n",
        "  # Flatten feature map to a 1-dim tensor so we can add fully connected layers\n",
        "  x = layers.Flatten()(x)\n",
        "\n",
        "  # Create a fully connected layer with ReLU activation and 512 hidden units\n",
        "  x = layers.Dense(512, activation='relu')(x)\n",
        "\n",
        "  # Create output layer with a single node and sigmoid activation\n",
        "  output = layers.Dense(1, activation='sigmoid')(x)\n",
        "\n",
        "  # Create model:\n",
        "  # input = input feature map\n",
        "  # output = input feature map + stacked convolution/maxpooling layers + fully \n",
        "  # connected layer + sigmoid output layer\n",
        "  model = Model(img_input, output)\n",
        "\n",
        "  return model"
      ],
      "execution_count": 24,
      "outputs": []
    },
    {
      "cell_type": "code",
      "metadata": {
        "id": "T5ecquRohhni"
      },
      "source": [
        "model = modelWoutDropout()"
      ],
      "execution_count": 25,
      "outputs": []
    },
    {
      "cell_type": "code",
      "metadata": {
        "colab": {
          "base_uri": "https://localhost:8080/"
        },
        "id": "nNTdk_kGq0mi",
        "outputId": "32cb72b0-0369-4b24-c299-252e2d7f60ba"
      },
      "source": [
        "model.summary()"
      ],
      "execution_count": 19,
      "outputs": [
        {
          "output_type": "stream",
          "text": [
            "Model: \"model_4\"\n",
            "_________________________________________________________________\n",
            "Layer (type)                 Output Shape              Param #   \n",
            "=================================================================\n",
            "input_3 (InputLayer)         [(None, 224, 224, 3)]     0         \n",
            "_________________________________________________________________\n",
            "conv2d_6 (Conv2D)            (None, 222, 222, 16)      448       \n",
            "_________________________________________________________________\n",
            "max_pooling2d_6 (MaxPooling2 (None, 111, 111, 16)      0         \n",
            "_________________________________________________________________\n",
            "conv2d_7 (Conv2D)            (None, 109, 109, 32)      4640      \n",
            "_________________________________________________________________\n",
            "max_pooling2d_7 (MaxPooling2 (None, 54, 54, 32)        0         \n",
            "_________________________________________________________________\n",
            "conv2d_8 (Conv2D)            (None, 52, 52, 64)        18496     \n",
            "_________________________________________________________________\n",
            "max_pooling2d_8 (MaxPooling2 (None, 26, 26, 64)        0         \n",
            "_________________________________________________________________\n",
            "flatten_4 (Flatten)          (None, 43264)             0         \n",
            "_________________________________________________________________\n",
            "dense_8 (Dense)              (None, 512)               22151680  \n",
            "_________________________________________________________________\n",
            "dropout (Dropout)            (None, 512)               0         \n",
            "_________________________________________________________________\n",
            "dense_9 (Dense)              (None, 1)                 513       \n",
            "=================================================================\n",
            "Total params: 22,175,777\n",
            "Trainable params: 22,175,777\n",
            "Non-trainable params: 0\n",
            "_________________________________________________________________\n"
          ],
          "name": "stdout"
        }
      ]
    },
    {
      "cell_type": "code",
      "metadata": {
        "id": "pUYGp6-sq0mj"
      },
      "source": [
        "from keras.optimizers import RMSprop\n",
        "\n",
        "# RMSprop is good for binary classification problems, where one\n",
        "# needs automatic tuning of metaparameters.\n",
        "#\n",
        "# lr is the learning rate\n",
        "#\n",
        "# Crossentropy is a very famous loss function for CNN\n",
        "model.compile(loss='binary_crossentropy',\n",
        "              optimizer=RMSprop(lr=0.001),\n",
        "              metrics=['acc'])"
      ],
      "execution_count": 28,
      "outputs": []
    },
    {
      "cell_type": "code",
      "metadata": {
        "colab": {
          "base_uri": "https://localhost:8080/"
        },
        "id": "U2VFJUEFq0mk",
        "outputId": "fa47cbb3-f5bc-41e2-9110-3a4c095d30ff"
      },
      "source": [
        "from keras.preprocessing.image import ImageDataGenerator\n",
        "\n",
        "train_dir = \"drive/MyDrive/data/train\"\n",
        "validation_dir = \"drive/MyDrive/data/validation\"\n",
        "\n",
        "def trainWithAugmenting():\n",
        "  # Adding rescale, rotation_range, width_shift_range, height_shift_range,\n",
        "  # shear_range, zoom_range, and horizontal flip to our ImageDataGenerator\n",
        "  return ImageDataGenerator(\n",
        "    rescale=1./255,\n",
        "    rotation_range=40,\n",
        "    width_shift_range=0.2,\n",
        "    height_shift_range=0.2,\n",
        "    shear_range=0.2,\n",
        "    zoom_range=0.2,\n",
        "    horizontal_flip=True,)\n",
        "\n",
        "def trainWoutAugmenting():\n",
        "  return ImageDataGenerator(rescale=1./255)\n",
        "\n",
        "train_datagen = trainWoutAugmenting()\n",
        "\n",
        "val_datagen = ImageDataGenerator(rescale=1./255)\n",
        "\n",
        "# Flow training images in batches of 20 using train_datagen generator\n",
        "train_generator = train_datagen.flow_from_directory(\n",
        "        train_dir,  # This is the source directory for training images\n",
        "        target_size=(224, 224),  # All images will be resized to 224x224\n",
        "        batch_size=20,\n",
        "        # Since we use binary_crossentropy loss, we need binary labels\n",
        "        class_mode='binary')\n",
        "\n",
        "# Flow validation images in batches of 20 using val_datagen generator\n",
        "validation_generator = val_datagen.flow_from_directory(\n",
        "        validation_dir,\n",
        "        target_size=(224, 224),\n",
        "        batch_size=20,\n",
        "        class_mode='binary')"
      ],
      "execution_count": 29,
      "outputs": [
        {
          "output_type": "stream",
          "text": [
            "Found 1978 images belonging to 2 classes.\n",
            "Found 659 images belonging to 2 classes.\n"
          ],
          "name": "stdout"
        }
      ]
    },
    {
      "cell_type": "code",
      "metadata": {
        "colab": {
          "base_uri": "https://localhost:8080/"
        },
        "id": "0uIPae06q0ml",
        "outputId": "7eb68e5a-a3af-496b-aa53-c8805246f5df"
      },
      "source": [
        "history = model.fit_generator(\n",
        "      train_generator,\n",
        "      steps_per_epoch=98,  # 1978 images = batch_size * steps\n",
        "      epochs=10,\n",
        "      validation_data=validation_generator,\n",
        "      validation_steps=32,  # 659 images = batch_size * steps\n",
        "      verbose=2)"
      ],
      "execution_count": 30,
      "outputs": [
        {
          "output_type": "stream",
          "text": [
            "/usr/local/lib/python3.7/dist-packages/tensorflow/python/keras/engine/training.py:1844: UserWarning: `Model.fit_generator` is deprecated and will be removed in a future version. Please use `Model.fit`, which supports generators.\n",
            "  warnings.warn('`Model.fit_generator` is deprecated and '\n"
          ],
          "name": "stderr"
        },
        {
          "output_type": "stream",
          "text": [
            "Epoch 1/10\n",
            "98/98 - 106s - loss: 0.8539 - acc: 0.6073 - val_loss: 0.5251 - val_acc: 0.6531\n",
            "Epoch 2/10\n",
            "98/98 - 105s - loss: 0.5456 - acc: 0.7237 - val_loss: 0.5745 - val_acc: 0.7375\n",
            "Epoch 3/10\n",
            "98/98 - 104s - loss: 0.4872 - acc: 0.7692 - val_loss: 1.2693 - val_acc: 0.5281\n",
            "Epoch 4/10\n",
            "98/98 - 104s - loss: 0.4730 - acc: 0.7727 - val_loss: 0.4307 - val_acc: 0.8016\n",
            "Epoch 5/10\n",
            "98/98 - 104s - loss: 0.4519 - acc: 0.7967 - val_loss: 0.3899 - val_acc: 0.8172\n",
            "Epoch 6/10\n",
            "98/98 - 104s - loss: 0.4391 - acc: 0.8008 - val_loss: 0.3812 - val_acc: 0.8250\n",
            "Epoch 7/10\n",
            "98/98 - 104s - loss: 0.4153 - acc: 0.8172 - val_loss: 0.9664 - val_acc: 0.7703\n",
            "Epoch 8/10\n",
            "98/98 - 104s - loss: 0.3710 - acc: 0.8269 - val_loss: 0.4472 - val_acc: 0.8078\n",
            "Epoch 9/10\n",
            "98/98 - 104s - loss: 0.3645 - acc: 0.8437 - val_loss: 0.4186 - val_acc: 0.8109\n",
            "Epoch 10/10\n",
            "98/98 - 104s - loss: 0.3101 - acc: 0.8596 - val_loss: 0.5071 - val_acc: 0.7969\n"
          ],
          "name": "stdout"
        }
      ]
    },
    {
      "cell_type": "code",
      "metadata": {
        "id": "QXctwaA6bX_D"
      },
      "source": [
        "# This is just a reference, because the cell above may take\n",
        "#   too long to finish executing.\n",
        "#\n",
        "# history = {'loss': [0.8539, 0.5456, 0.4872, 0.4730, \n",
        "#                     0.4519, 0.4391, 0.4153, 0.3710, \n",
        "#                     0.3645, 0.3101],\n",
        "#            'acc':  [0.6073, 0.7237, 0.692, 0.7727, \n",
        "#                     0.7967, 0.8808, 0.8172, 0.8269, \n",
        "#                     0.8437, 0.8596],\n",
        "#            'val_loss': [0.5251, 0.5745, 1.2693, 0.4307,\n",
        "#                         0.3899, 0.3812, 0.9664, 0.4472,\n",
        "#                         0.4186, 0.5071],\n",
        "#            'val_acc': [0.6531, 0.7375, 0.5281, 0.8016,\n",
        "#                        0.8172, 0.8250, 0.7703, 0.8078,\n",
        "#                        0.8109, 0.7969]\n",
        "#            }"
      ],
      "execution_count": 2,
      "outputs": []
    },
    {
      "cell_type": "code",
      "metadata": {
        "colab": {
          "base_uri": "https://localhost:8080/",
          "height": 545
        },
        "id": "iGeNZtr8q0mm",
        "outputId": "740f4a9e-854b-4f55-ab92-edc1b25ea38b"
      },
      "source": [
        "from google.colab import files\n",
        "from matplotlib import pyplot as plt\n",
        "# Retrieve a list of accuracy results on training and validation data\n",
        "# sets for each training epoch\n",
        "acc = history.history['acc']\n",
        "val_acc = history.history['val_acc']\n",
        "\n",
        "# Retrieve a list of list results on training and validation data\n",
        "# sets for each training epoch\n",
        "loss = history.history['loss']\n",
        "val_loss = history.history['val_loss']\n",
        "\n",
        "# Get number of epochs\n",
        "epochs = range(len(acc))\n",
        "\n",
        "# Plot training and validation accuracy per epoch\n",
        "plt.plot(epochs, acc, label=\"training\")\n",
        "plt.plot(epochs, val_acc, label=\"validation\")\n",
        "plt.legend()\n",
        "plt.title('Training and validation accuracy')\n",
        "plt.savefig(\"/tmp/tv_acc.png\")\n",
        "files.download(\"/tmp/tv_acc.png\")\n",
        "\n",
        "plt.figure()\n",
        "\n",
        "# Plot training and validation loss per epoch\n",
        "plt.plot(epochs, loss, label=\"training\")\n",
        "plt.plot(epochs, val_loss, label=\"validation\")\n",
        "plt.legend()\n",
        "plt.title('Training and validation loss')\n",
        "plt.savefig(\"/tmp/tv_loss.png\")\n",
        "files.download(\"/tmp/tv_loss.png\")\n"
      ],
      "execution_count": 7,
      "outputs": [
        {
          "output_type": "display_data",
          "data": {
            "application/javascript": [
              "\n",
              "    async function download(id, filename, size) {\n",
              "      if (!google.colab.kernel.accessAllowed) {\n",
              "        return;\n",
              "      }\n",
              "      const div = document.createElement('div');\n",
              "      const label = document.createElement('label');\n",
              "      label.textContent = `Downloading \"${filename}\": `;\n",
              "      div.appendChild(label);\n",
              "      const progress = document.createElement('progress');\n",
              "      progress.max = size;\n",
              "      div.appendChild(progress);\n",
              "      document.body.appendChild(div);\n",
              "\n",
              "      const buffers = [];\n",
              "      let downloaded = 0;\n",
              "\n",
              "      const channel = await google.colab.kernel.comms.open(id);\n",
              "      // Send a message to notify the kernel that we're ready.\n",
              "      channel.send({})\n",
              "\n",
              "      for await (const message of channel.messages) {\n",
              "        // Send a message to notify the kernel that we're ready.\n",
              "        channel.send({})\n",
              "        if (message.buffers) {\n",
              "          for (const buffer of message.buffers) {\n",
              "            buffers.push(buffer);\n",
              "            downloaded += buffer.byteLength;\n",
              "            progress.value = downloaded;\n",
              "          }\n",
              "        }\n",
              "      }\n",
              "      const blob = new Blob(buffers, {type: 'application/binary'});\n",
              "      const a = document.createElement('a');\n",
              "      a.href = window.URL.createObjectURL(blob);\n",
              "      a.download = filename;\n",
              "      div.appendChild(a);\n",
              "      a.click();\n",
              "      div.remove();\n",
              "    }\n",
              "  "
            ],
            "text/plain": [
              "<IPython.core.display.Javascript object>"
            ]
          },
          "metadata": {
            "tags": []
          }
        },
        {
          "output_type": "display_data",
          "data": {
            "application/javascript": [
              "download(\"download_35f834a6-0df6-442b-8beb-cbc6a85fd871\", \"tv_acc.png\", 20146)"
            ],
            "text/plain": [
              "<IPython.core.display.Javascript object>"
            ]
          },
          "metadata": {
            "tags": []
          }
        },
        {
          "output_type": "display_data",
          "data": {
            "application/javascript": [
              "\n",
              "    async function download(id, filename, size) {\n",
              "      if (!google.colab.kernel.accessAllowed) {\n",
              "        return;\n",
              "      }\n",
              "      const div = document.createElement('div');\n",
              "      const label = document.createElement('label');\n",
              "      label.textContent = `Downloading \"${filename}\": `;\n",
              "      div.appendChild(label);\n",
              "      const progress = document.createElement('progress');\n",
              "      progress.max = size;\n",
              "      div.appendChild(progress);\n",
              "      document.body.appendChild(div);\n",
              "\n",
              "      const buffers = [];\n",
              "      let downloaded = 0;\n",
              "\n",
              "      const channel = await google.colab.kernel.comms.open(id);\n",
              "      // Send a message to notify the kernel that we're ready.\n",
              "      channel.send({})\n",
              "\n",
              "      for await (const message of channel.messages) {\n",
              "        // Send a message to notify the kernel that we're ready.\n",
              "        channel.send({})\n",
              "        if (message.buffers) {\n",
              "          for (const buffer of message.buffers) {\n",
              "            buffers.push(buffer);\n",
              "            downloaded += buffer.byteLength;\n",
              "            progress.value = downloaded;\n",
              "          }\n",
              "        }\n",
              "      }\n",
              "      const blob = new Blob(buffers, {type: 'application/binary'});\n",
              "      const a = document.createElement('a');\n",
              "      a.href = window.URL.createObjectURL(blob);\n",
              "      a.download = filename;\n",
              "      div.appendChild(a);\n",
              "      a.click();\n",
              "      div.remove();\n",
              "    }\n",
              "  "
            ],
            "text/plain": [
              "<IPython.core.display.Javascript object>"
            ]
          },
          "metadata": {
            "tags": []
          }
        },
        {
          "output_type": "display_data",
          "data": {
            "application/javascript": [
              "download(\"download_a9b14021-2f5b-4a8a-b20e-ca685a78c2ce\", \"tv_loss.png\", 17806)"
            ],
            "text/plain": [
              "<IPython.core.display.Javascript object>"
            ]
          },
          "metadata": {
            "tags": []
          }
        },
        {
          "output_type": "display_data",
          "data": {
            "image/png": "[encoded data removed]",
            "text/plain": [
              "<Figure size 432x288 with 1 Axes>"
            ]
          },
          "metadata": {
            "tags": [],
            "needs_background": "light"
          }
        },
        {
          "output_type": "display_data",
          "data": {
            "image/png": "[encoded data removed]",
            "text/plain": [
              "<Figure size 432x288 with 1 Axes>"
            ]
          },
          "metadata": {
            "tags": [],
            "needs_background": "light"
          }
        }
      ]
    },
    {
      "cell_type": "code",
      "metadata": {
        "id": "2671OkbEq0mn"
      },
      "source": [
        "import os, signal\n",
        "os.kill(os.getpid(), signal.SIGKILL)"
      ],
      "execution_count": null,
      "outputs": []
    }
  ]
}